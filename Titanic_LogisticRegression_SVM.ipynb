{
  "cells": [
    {
      "cell_type": "markdown",
      "metadata": {
        "id": "view-in-github",
        "colab_type": "text"
      },
      "source": [
        "<a href=\"https://colab.research.google.com/github/hariomvyas/MLProjects/blob/main/Titanic_LogisticRegression_SVM.ipynb\" target=\"_parent\"><img src=\"https://colab.research.google.com/assets/colab-badge.svg\" alt=\"Open In Colab\"/></a>"
      ]
    },
    {
      "cell_type": "markdown",
      "id": "0cc377f1",
      "metadata": {
        "id": "0cc377f1"
      },
      "source": [
        "# Classification with Logistic Regression and SVM\n",
        "\n",
        "We will be working with the [Titanic Data Set from Kaggle](https://www.kaggle.com/c/titanic). We'll be trying to predict a classification: survival or deceased.\n",
        "\n",
        " - **Variable Name -  Variable Description**\n",
        " - PassengerID - Passenger ID          \n",
        " - Survived - Survival (0 = No; 1 = Yes)\n",
        " - Pclass - Passenger Class (1 = 1st; 2 = 2nd; 3 = 3rd)\n",
        " - Name\t- Name\n",
        " - Sex - Sex\n",
        " - Age - Age in years\n",
        " - SibSp - Number of Siblings/Spouses Aboard\n",
        " - Parch - Number of Parents/Children Aboard\n",
        " - Ticket - Ticket Number\n",
        " - Fare - Passenger Fare\n",
        " - Cabin - Cabin number\n",
        " - Embarked - Port of Embarkation (C = Cherbourg; Q = Queenstown; S = Southampton)"
      ]
    },
    {
      "cell_type": "markdown",
      "id": "24a9ff2e",
      "metadata": {
        "id": "24a9ff2e"
      },
      "source": [
        "### a. Import Libraries\n",
        "\n",
        "Import all necessary libraries\n"
      ]
    },
    {
      "cell_type": "code",
      "execution_count": null,
      "id": "faf4ad1b",
      "metadata": {
        "tags": [],
        "id": "faf4ad1b"
      },
      "outputs": [],
      "source": [
        "import pandas as pd\n",
        "import matplotlib.pyplot as plt\n",
        "import seaborn as sns\n",
        "\n",
        "from sklearn.model_selection import train_test_split\n",
        "from sklearn.linear_model import LogisticRegression\n",
        "\n",
        "from sklearn.metrics import confusion_matrix\n",
        "from sklearn.metrics import classification_report\n",
        "from sklearn.metrics import accuracy_score\n",
        "from sklearn.metrics import precision_recall_fscore_support\n",
        "from sklearn.metrics import roc_curve, auc,precision_recall_curve\n",
        "\n",
        "from sklearn.pipeline import Pipeline\n",
        "from sklearn.preprocessing import MinMaxScaler\n",
        "from sklearn.calibration import CalibrationDisplay\n",
        "from sklearn.impute import SimpleImputer\n",
        "\n",
        "import numpy as np"
      ]
    },
    {
      "cell_type": "markdown",
      "id": "17ec39a0",
      "metadata": {
        "id": "17ec39a0"
      },
      "source": [
        "Our target variable will be **survived**.  Use the rest of the fields mentioned above to predict whether a passenger survived the Titanic shipwreck."
      ]
    },
    {
      "cell_type": "markdown",
      "id": "383441fe",
      "metadata": {
        "id": "383441fe"
      },
      "source": [
        "### b.\tData Loading / Preprocessing\n",
        "#### i.\tLoading\n",
        "1. Load the data <df_train.csv> and <df_test.csv> as a pandas dataframe using the `pandas.read_csv` function. The ‘df_test.csv’ has been preprocessed (i.e., null values have been dropped, certain columns etc. have been dropped) and should not be changed apart from splitting the dataframe into X_test and y_test.  The ‘df_train’ data has NOT been preprocessed and you will need to preprocess and prepare the ‘df_train’ dataframe. Note: Neither df_train nor df_test have been scaled. The next few steps will enumerate data preprocessing, scaling requirements we need to perform."
      ]
    },
    {
      "cell_type": "code",
      "execution_count": null,
      "id": "ef474bd0",
      "metadata": {
        "id": "ef474bd0"
      },
      "outputs": [],
      "source": [
        "df_train = pd.read_csv('df_train.csv')\n",
        "df_test = pd.read_csv('df_test.csv')"
      ]
    },
    {
      "cell_type": "markdown",
      "id": "3ffe8d8c",
      "metadata": {
        "id": "3ffe8d8c"
      },
      "source": [
        "2. The resulting dataframe (i.e., df_train) should have the shape (712,12) indicating that there are 712 instances and 12 columns."
      ]
    },
    {
      "cell_type": "code",
      "execution_count": null,
      "id": "63d74155",
      "metadata": {
        "colab": {
          "base_uri": "https://localhost:8080/",
          "height": 424
        },
        "id": "63d74155",
        "outputId": "909ac48b-9b80-4c3e-8b0b-fde469c74219"
      },
      "outputs": [
        {
          "output_type": "execute_result",
          "data": {
            "text/plain": [
              "     PassengerId  Pclass                                               Name  \\\n",
              "0            299       1                              Saalfeld, Mr. Adolphe   \n",
              "1              9       3  Johnson, Mrs. Oscar W (Elisabeth Vilhelmina Berg)   \n",
              "2            414       2                     Cunningham, Mr. Alfred Fleming   \n",
              "3            542       3               Andersson, Miss. Ingeborg Constanzia   \n",
              "4            557       1  Duff Gordon, Lady. (Lucille Christiana Sutherl...   \n",
              "..           ...     ...                                                ...   \n",
              "707          576       3                               Patchett, Mr. George   \n",
              "708          145       2                         Andrew, Mr. Edgardo Samuel   \n",
              "709          551       1                        Thayer, Mr. John Borland Jr   \n",
              "710           58       3                                Novel, Mr. Mansouer   \n",
              "711          405       3                            Oreskovic, Miss. Marija   \n",
              "\n",
              "        Sex   Age  SibSp  Parch  Ticket      Fare Cabin Embarked  Survived  \n",
              "0      male   NaN      0      0   19988   30.5000  C106        S         1  \n",
              "1    female  27.0      0      2  347742   11.1333   NaN        S         1  \n",
              "2      male   NaN      0      0  239853    0.0000   NaN        S         0  \n",
              "3    female   9.0      4      2  347082   31.2750   NaN        S         0  \n",
              "4    female  48.0      1      0   11755   39.6000   A16        C         1  \n",
              "..      ...   ...    ...    ...     ...       ...   ...      ...       ...  \n",
              "707    male  19.0      0      0  358585   14.5000   NaN        S         0  \n",
              "708    male  18.0      0      0  231945   11.5000   NaN        S         0  \n",
              "709    male  17.0      0      2   17421  110.8833   C70        C         1  \n",
              "710    male  28.5      0      0    2697    7.2292   NaN        C         0  \n",
              "711  female  20.0      0      0  315096    8.6625   NaN        S         0  \n",
              "\n",
              "[712 rows x 12 columns]"
            ],
            "text/html": [
              "\n",
              "  <div id=\"df-98ac9071-4383-4328-bb01-72dfa8ced29d\" class=\"colab-df-container\">\n",
              "    <div>\n",
              "<style scoped>\n",
              "    .dataframe tbody tr th:only-of-type {\n",
              "        vertical-align: middle;\n",
              "    }\n",
              "\n",
              "    .dataframe tbody tr th {\n",
              "        vertical-align: top;\n",
              "    }\n",
              "\n",
              "    .dataframe thead th {\n",
              "        text-align: right;\n",
              "    }\n",
              "</style>\n",
              "<table border=\"1\" class=\"dataframe\">\n",
              "  <thead>\n",
              "    <tr style=\"text-align: right;\">\n",
              "      <th></th>\n",
              "      <th>PassengerId</th>\n",
              "      <th>Pclass</th>\n",
              "      <th>Name</th>\n",
              "      <th>Sex</th>\n",
              "      <th>Age</th>\n",
              "      <th>SibSp</th>\n",
              "      <th>Parch</th>\n",
              "      <th>Ticket</th>\n",
              "      <th>Fare</th>\n",
              "      <th>Cabin</th>\n",
              "      <th>Embarked</th>\n",
              "      <th>Survived</th>\n",
              "    </tr>\n",
              "  </thead>\n",
              "  <tbody>\n",
              "    <tr>\n",
              "      <th>0</th>\n",
              "      <td>299</td>\n",
              "      <td>1</td>\n",
              "      <td>Saalfeld, Mr. Adolphe</td>\n",
              "      <td>male</td>\n",
              "      <td>NaN</td>\n",
              "      <td>0</td>\n",
              "      <td>0</td>\n",
              "      <td>19988</td>\n",
              "      <td>30.5000</td>\n",
              "      <td>C106</td>\n",
              "      <td>S</td>\n",
              "      <td>1</td>\n",
              "    </tr>\n",
              "    <tr>\n",
              "      <th>1</th>\n",
              "      <td>9</td>\n",
              "      <td>3</td>\n",
              "      <td>Johnson, Mrs. Oscar W (Elisabeth Vilhelmina Berg)</td>\n",
              "      <td>female</td>\n",
              "      <td>27.0</td>\n",
              "      <td>0</td>\n",
              "      <td>2</td>\n",
              "      <td>347742</td>\n",
              "      <td>11.1333</td>\n",
              "      <td>NaN</td>\n",
              "      <td>S</td>\n",
              "      <td>1</td>\n",
              "    </tr>\n",
              "    <tr>\n",
              "      <th>2</th>\n",
              "      <td>414</td>\n",
              "      <td>2</td>\n",
              "      <td>Cunningham, Mr. Alfred Fleming</td>\n",
              "      <td>male</td>\n",
              "      <td>NaN</td>\n",
              "      <td>0</td>\n",
              "      <td>0</td>\n",
              "      <td>239853</td>\n",
              "      <td>0.0000</td>\n",
              "      <td>NaN</td>\n",
              "      <td>S</td>\n",
              "      <td>0</td>\n",
              "    </tr>\n",
              "    <tr>\n",
              "      <th>3</th>\n",
              "      <td>542</td>\n",
              "      <td>3</td>\n",
              "      <td>Andersson, Miss. Ingeborg Constanzia</td>\n",
              "      <td>female</td>\n",
              "      <td>9.0</td>\n",
              "      <td>4</td>\n",
              "      <td>2</td>\n",
              "      <td>347082</td>\n",
              "      <td>31.2750</td>\n",
              "      <td>NaN</td>\n",
              "      <td>S</td>\n",
              "      <td>0</td>\n",
              "    </tr>\n",
              "    <tr>\n",
              "      <th>4</th>\n",
              "      <td>557</td>\n",
              "      <td>1</td>\n",
              "      <td>Duff Gordon, Lady. (Lucille Christiana Sutherl...</td>\n",
              "      <td>female</td>\n",
              "      <td>48.0</td>\n",
              "      <td>1</td>\n",
              "      <td>0</td>\n",
              "      <td>11755</td>\n",
              "      <td>39.6000</td>\n",
              "      <td>A16</td>\n",
              "      <td>C</td>\n",
              "      <td>1</td>\n",
              "    </tr>\n",
              "    <tr>\n",
              "      <th>...</th>\n",
              "      <td>...</td>\n",
              "      <td>...</td>\n",
              "      <td>...</td>\n",
              "      <td>...</td>\n",
              "      <td>...</td>\n",
              "      <td>...</td>\n",
              "      <td>...</td>\n",
              "      <td>...</td>\n",
              "      <td>...</td>\n",
              "      <td>...</td>\n",
              "      <td>...</td>\n",
              "      <td>...</td>\n",
              "    </tr>\n",
              "    <tr>\n",
              "      <th>707</th>\n",
              "      <td>576</td>\n",
              "      <td>3</td>\n",
              "      <td>Patchett, Mr. George</td>\n",
              "      <td>male</td>\n",
              "      <td>19.0</td>\n",
              "      <td>0</td>\n",
              "      <td>0</td>\n",
              "      <td>358585</td>\n",
              "      <td>14.5000</td>\n",
              "      <td>NaN</td>\n",
              "      <td>S</td>\n",
              "      <td>0</td>\n",
              "    </tr>\n",
              "    <tr>\n",
              "      <th>708</th>\n",
              "      <td>145</td>\n",
              "      <td>2</td>\n",
              "      <td>Andrew, Mr. Edgardo Samuel</td>\n",
              "      <td>male</td>\n",
              "      <td>18.0</td>\n",
              "      <td>0</td>\n",
              "      <td>0</td>\n",
              "      <td>231945</td>\n",
              "      <td>11.5000</td>\n",
              "      <td>NaN</td>\n",
              "      <td>S</td>\n",
              "      <td>0</td>\n",
              "    </tr>\n",
              "    <tr>\n",
              "      <th>709</th>\n",
              "      <td>551</td>\n",
              "      <td>1</td>\n",
              "      <td>Thayer, Mr. John Borland Jr</td>\n",
              "      <td>male</td>\n",
              "      <td>17.0</td>\n",
              "      <td>0</td>\n",
              "      <td>2</td>\n",
              "      <td>17421</td>\n",
              "      <td>110.8833</td>\n",
              "      <td>C70</td>\n",
              "      <td>C</td>\n",
              "      <td>1</td>\n",
              "    </tr>\n",
              "    <tr>\n",
              "      <th>710</th>\n",
              "      <td>58</td>\n",
              "      <td>3</td>\n",
              "      <td>Novel, Mr. Mansouer</td>\n",
              "      <td>male</td>\n",
              "      <td>28.5</td>\n",
              "      <td>0</td>\n",
              "      <td>0</td>\n",
              "      <td>2697</td>\n",
              "      <td>7.2292</td>\n",
              "      <td>NaN</td>\n",
              "      <td>C</td>\n",
              "      <td>0</td>\n",
              "    </tr>\n",
              "    <tr>\n",
              "      <th>711</th>\n",
              "      <td>405</td>\n",
              "      <td>3</td>\n",
              "      <td>Oreskovic, Miss. Marija</td>\n",
              "      <td>female</td>\n",
              "      <td>20.0</td>\n",
              "      <td>0</td>\n",
              "      <td>0</td>\n",
              "      <td>315096</td>\n",
              "      <td>8.6625</td>\n",
              "      <td>NaN</td>\n",
              "      <td>S</td>\n",
              "      <td>0</td>\n",
              "    </tr>\n",
              "  </tbody>\n",
              "</table>\n",
              "<p>712 rows × 12 columns</p>\n",
              "</div>\n",
              "    <div class=\"colab-df-buttons\">\n",
              "\n",
              "  <div class=\"colab-df-container\">\n",
              "    <button class=\"colab-df-convert\" onclick=\"convertToInteractive('df-98ac9071-4383-4328-bb01-72dfa8ced29d')\"\n",
              "            title=\"Convert this dataframe to an interactive table.\"\n",
              "            style=\"display:none;\">\n",
              "\n",
              "  <svg xmlns=\"http://www.w3.org/2000/svg\" height=\"24px\" viewBox=\"0 -960 960 960\">\n",
              "    <path d=\"M120-120v-720h720v720H120Zm60-500h600v-160H180v160Zm220 220h160v-160H400v160Zm0 220h160v-160H400v160ZM180-400h160v-160H180v160Zm440 0h160v-160H620v160ZM180-180h160v-160H180v160Zm440 0h160v-160H620v160Z\"/>\n",
              "  </svg>\n",
              "    </button>\n",
              "\n",
              "  <style>\n",
              "    .colab-df-container {\n",
              "      display:flex;\n",
              "      gap: 12px;\n",
              "    }\n",
              "\n",
              "    .colab-df-convert {\n",
              "      background-color: #E8F0FE;\n",
              "      border: none;\n",
              "      border-radius: 50%;\n",
              "      cursor: pointer;\n",
              "      display: none;\n",
              "      fill: #1967D2;\n",
              "      height: 32px;\n",
              "      padding: 0 0 0 0;\n",
              "      width: 32px;\n",
              "    }\n",
              "\n",
              "    .colab-df-convert:hover {\n",
              "      background-color: #E2EBFA;\n",
              "      box-shadow: 0px 1px 2px rgba(60, 64, 67, 0.3), 0px 1px 3px 1px rgba(60, 64, 67, 0.15);\n",
              "      fill: #174EA6;\n",
              "    }\n",
              "\n",
              "    .colab-df-buttons div {\n",
              "      margin-bottom: 4px;\n",
              "    }\n",
              "\n",
              "    [theme=dark] .colab-df-convert {\n",
              "      background-color: #3B4455;\n",
              "      fill: #D2E3FC;\n",
              "    }\n",
              "\n",
              "    [theme=dark] .colab-df-convert:hover {\n",
              "      background-color: #434B5C;\n",
              "      box-shadow: 0px 1px 3px 1px rgba(0, 0, 0, 0.15);\n",
              "      filter: drop-shadow(0px 1px 2px rgba(0, 0, 0, 0.3));\n",
              "      fill: #FFFFFF;\n",
              "    }\n",
              "  </style>\n",
              "\n",
              "    <script>\n",
              "      const buttonEl =\n",
              "        document.querySelector('#df-98ac9071-4383-4328-bb01-72dfa8ced29d button.colab-df-convert');\n",
              "      buttonEl.style.display =\n",
              "        google.colab.kernel.accessAllowed ? 'block' : 'none';\n",
              "\n",
              "      async function convertToInteractive(key) {\n",
              "        const element = document.querySelector('#df-98ac9071-4383-4328-bb01-72dfa8ced29d');\n",
              "        const dataTable =\n",
              "          await google.colab.kernel.invokeFunction('convertToInteractive',\n",
              "                                                    [key], {});\n",
              "        if (!dataTable) return;\n",
              "\n",
              "        const docLinkHtml = 'Like what you see? Visit the ' +\n",
              "          '<a target=\"_blank\" href=https://colab.research.google.com/notebooks/data_table.ipynb>data table notebook</a>'\n",
              "          + ' to learn more about interactive tables.';\n",
              "        element.innerHTML = '';\n",
              "        dataTable['output_type'] = 'display_data';\n",
              "        await google.colab.output.renderOutput(dataTable, element);\n",
              "        const docLink = document.createElement('div');\n",
              "        docLink.innerHTML = docLinkHtml;\n",
              "        element.appendChild(docLink);\n",
              "      }\n",
              "    </script>\n",
              "  </div>\n",
              "\n",
              "\n",
              "<div id=\"df-ad903913-593e-43d7-aea6-44be539922cd\">\n",
              "  <button class=\"colab-df-quickchart\" onclick=\"quickchart('df-ad903913-593e-43d7-aea6-44be539922cd')\"\n",
              "            title=\"Suggest charts\"\n",
              "            style=\"display:none;\">\n",
              "\n",
              "<svg xmlns=\"http://www.w3.org/2000/svg\" height=\"24px\"viewBox=\"0 0 24 24\"\n",
              "     width=\"24px\">\n",
              "    <g>\n",
              "        <path d=\"M19 3H5c-1.1 0-2 .9-2 2v14c0 1.1.9 2 2 2h14c1.1 0 2-.9 2-2V5c0-1.1-.9-2-2-2zM9 17H7v-7h2v7zm4 0h-2V7h2v10zm4 0h-2v-4h2v4z\"/>\n",
              "    </g>\n",
              "</svg>\n",
              "  </button>\n",
              "\n",
              "<style>\n",
              "  .colab-df-quickchart {\n",
              "      --bg-color: #E8F0FE;\n",
              "      --fill-color: #1967D2;\n",
              "      --hover-bg-color: #E2EBFA;\n",
              "      --hover-fill-color: #174EA6;\n",
              "      --disabled-fill-color: #AAA;\n",
              "      --disabled-bg-color: #DDD;\n",
              "  }\n",
              "\n",
              "  [theme=dark] .colab-df-quickchart {\n",
              "      --bg-color: #3B4455;\n",
              "      --fill-color: #D2E3FC;\n",
              "      --hover-bg-color: #434B5C;\n",
              "      --hover-fill-color: #FFFFFF;\n",
              "      --disabled-bg-color: #3B4455;\n",
              "      --disabled-fill-color: #666;\n",
              "  }\n",
              "\n",
              "  .colab-df-quickchart {\n",
              "    background-color: var(--bg-color);\n",
              "    border: none;\n",
              "    border-radius: 50%;\n",
              "    cursor: pointer;\n",
              "    display: none;\n",
              "    fill: var(--fill-color);\n",
              "    height: 32px;\n",
              "    padding: 0;\n",
              "    width: 32px;\n",
              "  }\n",
              "\n",
              "  .colab-df-quickchart:hover {\n",
              "    background-color: var(--hover-bg-color);\n",
              "    box-shadow: 0 1px 2px rgba(60, 64, 67, 0.3), 0 1px 3px 1px rgba(60, 64, 67, 0.15);\n",
              "    fill: var(--button-hover-fill-color);\n",
              "  }\n",
              "\n",
              "  .colab-df-quickchart-complete:disabled,\n",
              "  .colab-df-quickchart-complete:disabled:hover {\n",
              "    background-color: var(--disabled-bg-color);\n",
              "    fill: var(--disabled-fill-color);\n",
              "    box-shadow: none;\n",
              "  }\n",
              "\n",
              "  .colab-df-spinner {\n",
              "    border: 2px solid var(--fill-color);\n",
              "    border-color: transparent;\n",
              "    border-bottom-color: var(--fill-color);\n",
              "    animation:\n",
              "      spin 1s steps(1) infinite;\n",
              "  }\n",
              "\n",
              "  @keyframes spin {\n",
              "    0% {\n",
              "      border-color: transparent;\n",
              "      border-bottom-color: var(--fill-color);\n",
              "      border-left-color: var(--fill-color);\n",
              "    }\n",
              "    20% {\n",
              "      border-color: transparent;\n",
              "      border-left-color: var(--fill-color);\n",
              "      border-top-color: var(--fill-color);\n",
              "    }\n",
              "    30% {\n",
              "      border-color: transparent;\n",
              "      border-left-color: var(--fill-color);\n",
              "      border-top-color: var(--fill-color);\n",
              "      border-right-color: var(--fill-color);\n",
              "    }\n",
              "    40% {\n",
              "      border-color: transparent;\n",
              "      border-right-color: var(--fill-color);\n",
              "      border-top-color: var(--fill-color);\n",
              "    }\n",
              "    60% {\n",
              "      border-color: transparent;\n",
              "      border-right-color: var(--fill-color);\n",
              "    }\n",
              "    80% {\n",
              "      border-color: transparent;\n",
              "      border-right-color: var(--fill-color);\n",
              "      border-bottom-color: var(--fill-color);\n",
              "    }\n",
              "    90% {\n",
              "      border-color: transparent;\n",
              "      border-bottom-color: var(--fill-color);\n",
              "    }\n",
              "  }\n",
              "</style>\n",
              "\n",
              "  <script>\n",
              "    async function quickchart(key) {\n",
              "      const quickchartButtonEl =\n",
              "        document.querySelector('#' + key + ' button');\n",
              "      quickchartButtonEl.disabled = true;  // To prevent multiple clicks.\n",
              "      quickchartButtonEl.classList.add('colab-df-spinner');\n",
              "      try {\n",
              "        const charts = await google.colab.kernel.invokeFunction(\n",
              "            'suggestCharts', [key], {});\n",
              "      } catch (error) {\n",
              "        console.error('Error during call to suggestCharts:', error);\n",
              "      }\n",
              "      quickchartButtonEl.classList.remove('colab-df-spinner');\n",
              "      quickchartButtonEl.classList.add('colab-df-quickchart-complete');\n",
              "    }\n",
              "    (() => {\n",
              "      let quickchartButtonEl =\n",
              "        document.querySelector('#df-ad903913-593e-43d7-aea6-44be539922cd button');\n",
              "      quickchartButtonEl.style.display =\n",
              "        google.colab.kernel.accessAllowed ? 'block' : 'none';\n",
              "    })();\n",
              "  </script>\n",
              "</div>\n",
              "\n",
              "  <div id=\"id_3686d069-8a90-4771-ae6d-f5bc78b39a33\">\n",
              "    <style>\n",
              "      .colab-df-generate {\n",
              "        background-color: #E8F0FE;\n",
              "        border: none;\n",
              "        border-radius: 50%;\n",
              "        cursor: pointer;\n",
              "        display: none;\n",
              "        fill: #1967D2;\n",
              "        height: 32px;\n",
              "        padding: 0 0 0 0;\n",
              "        width: 32px;\n",
              "      }\n",
              "\n",
              "      .colab-df-generate:hover {\n",
              "        background-color: #E2EBFA;\n",
              "        box-shadow: 0px 1px 2px rgba(60, 64, 67, 0.3), 0px 1px 3px 1px rgba(60, 64, 67, 0.15);\n",
              "        fill: #174EA6;\n",
              "      }\n",
              "\n",
              "      [theme=dark] .colab-df-generate {\n",
              "        background-color: #3B4455;\n",
              "        fill: #D2E3FC;\n",
              "      }\n",
              "\n",
              "      [theme=dark] .colab-df-generate:hover {\n",
              "        background-color: #434B5C;\n",
              "        box-shadow: 0px 1px 3px 1px rgba(0, 0, 0, 0.15);\n",
              "        filter: drop-shadow(0px 1px 2px rgba(0, 0, 0, 0.3));\n",
              "        fill: #FFFFFF;\n",
              "      }\n",
              "    </style>\n",
              "    <button class=\"colab-df-generate\" onclick=\"generateWithVariable('df_train')\"\n",
              "            title=\"Generate code using this dataframe.\"\n",
              "            style=\"display:none;\">\n",
              "\n",
              "  <svg xmlns=\"http://www.w3.org/2000/svg\" height=\"24px\"viewBox=\"0 0 24 24\"\n",
              "       width=\"24px\">\n",
              "    <path d=\"M7,19H8.4L18.45,9,17,7.55,7,17.6ZM5,21V16.75L18.45,3.32a2,2,0,0,1,2.83,0l1.4,1.43a1.91,1.91,0,0,1,.58,1.4,1.91,1.91,0,0,1-.58,1.4L9.25,21ZM18.45,9,17,7.55Zm-12,3A5.31,5.31,0,0,0,4.9,8.1,5.31,5.31,0,0,0,1,6.5,5.31,5.31,0,0,0,4.9,4.9,5.31,5.31,0,0,0,6.5,1,5.31,5.31,0,0,0,8.1,4.9,5.31,5.31,0,0,0,12,6.5,5.46,5.46,0,0,0,6.5,12Z\"/>\n",
              "  </svg>\n",
              "    </button>\n",
              "    <script>\n",
              "      (() => {\n",
              "      const buttonEl =\n",
              "        document.querySelector('#id_3686d069-8a90-4771-ae6d-f5bc78b39a33 button.colab-df-generate');\n",
              "      buttonEl.style.display =\n",
              "        google.colab.kernel.accessAllowed ? 'block' : 'none';\n",
              "\n",
              "      buttonEl.onclick = () => {\n",
              "        google.colab.notebook.generateWithVariable('df_train');\n",
              "      }\n",
              "      })();\n",
              "    </script>\n",
              "  </div>\n",
              "\n",
              "    </div>\n",
              "  </div>\n"
            ],
            "application/vnd.google.colaboratory.intrinsic+json": {
              "type": "dataframe",
              "variable_name": "df_train",
              "summary": "{\n  \"name\": \"df_train\",\n  \"rows\": 712,\n  \"fields\": [\n    {\n      \"column\": \"PassengerId\",\n      \"properties\": {\n        \"dtype\": \"number\",\n        \"std\": 254,\n        \"min\": 1,\n        \"max\": 891,\n        \"num_unique_values\": 712,\n        \"samples\": [\n          316,\n          102,\n          180\n        ],\n        \"semantic_type\": \"\",\n        \"description\": \"\"\n      }\n    },\n    {\n      \"column\": \"Pclass\",\n      \"properties\": {\n        \"dtype\": \"number\",\n        \"std\": 0,\n        \"min\": 1,\n        \"max\": 3,\n        \"num_unique_values\": 3,\n        \"samples\": [\n          1,\n          3,\n          2\n        ],\n        \"semantic_type\": \"\",\n        \"description\": \"\"\n      }\n    },\n    {\n      \"column\": \"Name\",\n      \"properties\": {\n        \"dtype\": \"string\",\n        \"num_unique_values\": 712,\n        \"samples\": [\n          \"Nilsson, Miss. Helmina Josefina\",\n          \"Petroff, Mr. Pastcho (\\\"Pentcho\\\")\",\n          \"Leonard, Mr. Lionel\"\n        ],\n        \"semantic_type\": \"\",\n        \"description\": \"\"\n      }\n    },\n    {\n      \"column\": \"Sex\",\n      \"properties\": {\n        \"dtype\": \"category\",\n        \"num_unique_values\": 2,\n        \"samples\": [\n          \"female\",\n          \"male\"\n        ],\n        \"semantic_type\": \"\",\n        \"description\": \"\"\n      }\n    },\n    {\n      \"column\": \"Age\",\n      \"properties\": {\n        \"dtype\": \"number\",\n        \"std\": 14.8297761314556,\n        \"min\": 0.42,\n        \"max\": 80.0,\n        \"num_unique_values\": 86,\n        \"samples\": [\n          34.5,\n          27.0\n        ],\n        \"semantic_type\": \"\",\n        \"description\": \"\"\n      }\n    },\n    {\n      \"column\": \"SibSp\",\n      \"properties\": {\n        \"dtype\": \"number\",\n        \"std\": 1,\n        \"min\": 0,\n        \"max\": 8,\n        \"num_unique_values\": 7,\n        \"samples\": [\n          0,\n          4\n        ],\n        \"semantic_type\": \"\",\n        \"description\": \"\"\n      }\n    },\n    {\n      \"column\": \"Parch\",\n      \"properties\": {\n        \"dtype\": \"number\",\n        \"std\": 0,\n        \"min\": 0,\n        \"max\": 6,\n        \"num_unique_values\": 7,\n        \"samples\": [\n          0,\n          2\n        ],\n        \"semantic_type\": \"\",\n        \"description\": \"\"\n      }\n    },\n    {\n      \"column\": \"Ticket\",\n      \"properties\": {\n        \"dtype\": \"string\",\n        \"num_unique_values\": 561,\n        \"samples\": [\n          \"349248\",\n          \"13509\"\n        ],\n        \"semantic_type\": \"\",\n        \"description\": \"\"\n      }\n    },\n    {\n      \"column\": \"Fare\",\n      \"properties\": {\n        \"dtype\": \"number\",\n        \"std\": 46.13619306852335,\n        \"min\": 0.0,\n        \"max\": 512.3292,\n        \"num_unique_values\": 222,\n        \"samples\": [\n          8.4042,\n          211.3375\n        ],\n        \"semantic_type\": \"\",\n        \"description\": \"\"\n      }\n    },\n    {\n      \"column\": \"Cabin\",\n      \"properties\": {\n        \"dtype\": \"category\",\n        \"num_unique_values\": 128,\n        \"samples\": [\n          \"C86\",\n          \"C92\"\n        ],\n        \"semantic_type\": \"\",\n        \"description\": \"\"\n      }\n    },\n    {\n      \"column\": \"Embarked\",\n      \"properties\": {\n        \"dtype\": \"category\",\n        \"num_unique_values\": 3,\n        \"samples\": [\n          \"S\",\n          \"C\"\n        ],\n        \"semantic_type\": \"\",\n        \"description\": \"\"\n      }\n    },\n    {\n      \"column\": \"Survived\",\n      \"properties\": {\n        \"dtype\": \"number\",\n        \"std\": 0,\n        \"min\": 0,\n        \"max\": 1,\n        \"num_unique_values\": 2,\n        \"samples\": [\n          0,\n          1\n        ],\n        \"semantic_type\": \"\",\n        \"description\": \"\"\n      }\n    }\n  ]\n}"
            }
          },
          "metadata": {},
          "execution_count": 3
        }
      ],
      "source": [
        "df_train"
      ]
    },
    {
      "cell_type": "markdown",
      "id": "556465b7",
      "metadata": {
        "id": "556465b7"
      },
      "source": [
        "3. In df_train dataframe, currently you have 12 columns which are the following – PassengerID, Pclass, Name, Sex, Age, SibSp, Parch, Ticket, Fare, Cabin, Embarked and the Survived column (target variable)."
      ]
    },
    {
      "cell_type": "code",
      "execution_count": null,
      "id": "a77ba9fc",
      "metadata": {
        "colab": {
          "base_uri": "https://localhost:8080/"
        },
        "id": "a77ba9fc",
        "outputId": "ee490f2d-b4ef-4e3f-bc55-17119fc9de72"
      },
      "outputs": [
        {
          "output_type": "execute_result",
          "data": {
            "text/plain": [
              "Index(['PassengerId', 'Pclass', 'Name', 'Sex', 'Age', 'SibSp', 'Parch',\n",
              "       'Ticket', 'Fare', 'Cabin', 'Embarked', 'Survived'],\n",
              "      dtype='object')"
            ]
          },
          "metadata": {},
          "execution_count": 4
        }
      ],
      "source": [
        "df_train.columns"
      ]
    },
    {
      "cell_type": "markdown",
      "id": "0411d5f5",
      "metadata": {
        "id": "0411d5f5"
      },
      "source": [
        "4. Use the `pandas.isnull().sum()` function to check if there are any missing values in the df_train dataframe. Report which columns have missing (i.e., null) values and provide the number of the null values in the columns."
      ]
    },
    {
      "cell_type": "code",
      "execution_count": null,
      "id": "7fd8ac5f",
      "metadata": {
        "colab": {
          "base_uri": "https://localhost:8080/"
        },
        "id": "7fd8ac5f",
        "outputId": "5346b74e-0e81-4c7c-bb78-6e64a7ead562"
      },
      "outputs": [
        {
          "output_type": "stream",
          "name": "stdout",
          "text": [
            "PassengerId      0\n",
            "Pclass           0\n",
            "Name             0\n",
            "Sex              0\n",
            "Age            138\n",
            "SibSp            0\n",
            "Parch            0\n",
            "Ticket           0\n",
            "Fare             0\n",
            "Cabin          541\n",
            "Embarked         2\n",
            "Survived         0\n",
            "dtype: int64\n"
          ]
        }
      ],
      "source": [
        "print(df_train.isnull().sum())"
      ]
    },
    {
      "cell_type": "markdown",
      "id": "5ba008cf",
      "metadata": {
        "id": "5ba008cf"
      },
      "source": [
        "5. Use the `pandas.DataFrame.drop()` function to drop the ‘Cabin’, ‘PassengerID’, ‘Name’ and ‘Ticket’ columns."
      ]
    },
    {
      "cell_type": "code",
      "execution_count": null,
      "id": "9c11960d",
      "metadata": {
        "id": "9c11960d"
      },
      "outputs": [],
      "source": [
        "df_train.drop(['Cabin', 'PassengerId', 'Name', 'Ticket'], axis=1, inplace=True)\n"
      ]
    },
    {
      "cell_type": "markdown",
      "id": "083ea93a",
      "metadata": {
        "id": "083ea93a"
      },
      "source": [
        "6. Use the `pandas.DataFrame.fillna()` function to replace the NA values in the ‘Age’ column with the mean value of the ‘Age’ column. Note: This process is called **imputation** (i.e., filling null values with a pre-specified value) and we are employing one strategy called mean imputation, but other strategies can also be employed in general.  \n",
        "Use the `dropna()` function to drop any remaining **rows** that consist of NA values."
      ]
    },
    {
      "cell_type": "code",
      "execution_count": null,
      "id": "4e206862",
      "metadata": {
        "id": "4e206862"
      },
      "outputs": [],
      "source": [
        "imputer = SimpleImputer(strategy='mean')\n",
        "df_train['Age'] = imputer.fit_transform(df_train[['Age']])\n",
        "\n",
        "\n",
        "df_train.dropna(inplace=True)"
      ]
    },
    {
      "cell_type": "markdown",
      "id": "2f2a2e6c",
      "metadata": {
        "id": "2f2a2e6c"
      },
      "source": [
        "7. Your task is to use the feature columns to predict the target column. This can be cast as a classification problem.  \n",
        "8. Create a pandas dataframe X_train of features (by dropping the ‘Survival’ column from the df_train dataframe). Create a pandas Series object of targets y_train (by only considering the ‘Survival’ column from the df_train dataframe). Moving forward, we will be working with X_train and y_train. At this point, also split the df_test into X_test and y_test by dropping the ‘Survival’ column and storing the features into X_test. Store the ‘Survival’ column in y_test."
      ]
    },
    {
      "cell_type": "code",
      "execution_count": null,
      "id": "a00a090a",
      "metadata": {
        "id": "a00a090a"
      },
      "outputs": [],
      "source": [
        "# Split df_train into X_train and y_train\n",
        "X_train = df_train.drop('Survived', axis=1)\n",
        "y_train = df_train['Survived']\n",
        "\n",
        "# Split df_test into X_test and y_test\n",
        "X_test = df_test.drop('Survived', axis=1)\n",
        "y_test = df_test['Survived']"
      ]
    },
    {
      "cell_type": "markdown",
      "id": "3e9790b6",
      "metadata": {
        "id": "3e9790b6"
      },
      "source": [
        "#### ii. Data Visualization\n",
        "\n",
        "1. Employ a scatter plot using `matplotlib.pyplot.scatter` between the age of the passengers and the price of their fare. Label the x-axis and the y-axis and also give the plot a title."
      ]
    },
    {
      "cell_type": "code",
      "execution_count": null,
      "id": "6a3fe579",
      "metadata": {
        "colab": {
          "base_uri": "https://localhost:8080/",
          "height": 472
        },
        "id": "6a3fe579",
        "outputId": "9d6d8d0e-6de4-419c-b9d0-d26a696e5dee"
      },
      "outputs": [
        {
          "output_type": "display_data",
          "data": {
            "text/plain": [
              "<Figure size 640x480 with 1 Axes>"
            ],
            "image/png": "[encoded data removed]"
          },
          "metadata": {}
        }
      ],
      "source": [
        "# Scatter plot of Age vs Fare\n",
        "plt.scatter(df_train['Age'], df_train['Fare'])\n",
        "plt.xlabel('Age')\n",
        "plt.ylabel('Fare')\n",
        "plt.title('Scatter Plot of Age vs Fare')\n",
        "plt.show()"
      ]
    },
    {
      "cell_type": "code",
      "source": [
        "# a. Find the highest and lowest fare price\n",
        "highest_fare = df_train['Fare'].max()\n",
        "lowest_fare = df_train['Fare'].min()\n",
        "\n",
        "# b. Find the mean values of the 'Age' and 'Fare' features\n",
        "mean_age = df_train['Age'].mean()\n",
        "mean_fare = df_train['Fare'].mean()\n",
        "\n",
        "# c. Find the age of the oldest passenger\n",
        "oldest_age = df_train['Age'].max()\n",
        "\n",
        "print(f\"The highest fare is: {highest_fare}\")\n",
        "print(f\"The lowest fare is: {lowest_fare}\")\n",
        "print(f\"The mean age is: {mean_age}\")\n",
        "print(f\"The mean fare is: {mean_fare}\")\n",
        "print(f\"The age of the oldest passenger is: {oldest_age}\")"
      ],
      "metadata": {
        "colab": {
          "base_uri": "https://localhost:8080/"
        },
        "id": "5iKQ_1ov_DFi",
        "outputId": "9c4520ce-665a-49b4-8daf-eb1ff8ce67d9"
      },
      "id": "5iKQ_1ov_DFi",
      "execution_count": null,
      "outputs": [
        {
          "output_type": "stream",
          "name": "stdout",
          "text": [
            "The highest fare is: 512.3292\n",
            "The lowest fare is: 0.0\n",
            "The mean age is: 29.75497865240222\n",
            "The mean fare is: 32.52509295774648\n",
            "The age of the oldest passenger is: 80.0\n"
          ]
        }
      ]
    },
    {
      "cell_type": "markdown",
      "id": "6aaff460",
      "metadata": {
        "id": "6aaff460"
      },
      "source": [
        "2. Use the df_train dataframe. Using matplotlib visualize the number of males and females that survived and their respective passenger classes on two separate bar chart plots using `matplotlib.pyplot.bar` (Passenger Class column)"
      ]
    },
    {
      "cell_type": "code",
      "execution_count": null,
      "id": "73de6928",
      "metadata": {
        "colab": {
          "base_uri": "https://localhost:8080/",
          "height": 1000
        },
        "id": "73de6928",
        "outputId": "45e500cf-5d03-4cc0-fe2d-682af641163f"
      },
      "outputs": [
        {
          "output_type": "display_data",
          "data": {
            "text/plain": [
              "<Figure size 1000x1200 with 2 Axes>"
            ],
            "image/png": "[encoded data removed]"
          },
          "metadata": {}
        }
      ],
      "source": [
        "\n",
        "fig, ax = plt.subplots(2, 1, figsize=(10, 12))\n",
        "df_train[df_train['Sex'] == 'male'].groupby('Pclass')['Survived'].mean().plot(kind='bar', ax=ax[0])\n",
        "df_train[df_train['Sex'] == 'female'].groupby('Pclass')['Survived'].mean().plot(kind='bar', ax=ax[1])\n",
        "ax[0].set_title('Male Survival Rate by Class')\n",
        "ax[1].set_title('Female Survival Rate by Class')\n",
        "plt.show()"
      ]
    },
    {
      "cell_type": "code",
      "source": [
        "\n",
        "male_survivors_by_class = df_train[(df_train['Sex'] == 'male') & (df_train['Survived'] == 1)].groupby('Pclass')['Survived'].count()\n",
        "least_survived_male_class = male_survivors_by_class.idxmin()\n",
        "least_survived_males = male_survivors_by_class.min()\n",
        "\n",
        "\n",
        "female_survivors_by_class = df_train[(df_train['Sex'] == 'female') & (df_train['Survived'] == 1)].groupby('Pclass')['Survived'].count()\n",
        "least_survived_female_class = female_survivors_by_class.idxmin()\n",
        "least_survived_females = female_survivors_by_class.min()\n",
        "\n",
        "\n",
        "most_survived_male_class = male_survivors_by_class.idxmax()\n",
        "most_survived_males = male_survivors_by_class.max()\n",
        "\n",
        "\n",
        "most_survived_female_class = female_survivors_by_class.idxmax()\n",
        "most_survived_females = female_survivors_by_class.max()\n",
        "\n",
        "print(f\"Least number of survived males was in class {least_survived_male_class} with {least_survived_males} survivors.\")\n",
        "print(f\"Least number of survived females was in class {least_survived_female_class} with {least_survived_females} survivors.\")\n",
        "print(f\"Greatest number of survived males was in class {most_survived_male_class} with {most_survived_males} survivors.\")\n",
        "print(f\"Greatest number of survived females was in class {most_survived_female_class} with {most_survived_females} survivors.\")"
      ],
      "metadata": {
        "colab": {
          "base_uri": "https://localhost:8080/"
        },
        "id": "dB8zOUUqAEOh",
        "outputId": "90da932f-a4fb-4eb9-dc53-182848c45a88"
      },
      "id": "dB8zOUUqAEOh",
      "execution_count": null,
      "outputs": [
        {
          "output_type": "stream",
          "name": "stdout",
          "text": [
            "Least number of survived males was in class 2 with 15 survivors.\n",
            "Least number of survived females was in class 2 with 50 survivors.\n",
            "Greatest number of survived males was in class 1 with 42 survivors.\n",
            "Greatest number of survived females was in class 1 with 74 survivors.\n"
          ]
        }
      ]
    },
    {
      "cell_type": "markdown",
      "id": "2a7ab9a6",
      "metadata": {
        "id": "2a7ab9a6"
      },
      "source": [
        "3. Using the Target variable (Survived) in y_train plot a bar chart showing the distribution of the ‘Survived’ column."
      ]
    },
    {
      "cell_type": "code",
      "execution_count": null,
      "id": "4175ae57",
      "metadata": {
        "colab": {
          "base_uri": "https://localhost:8080/",
          "height": 467
        },
        "id": "4175ae57",
        "outputId": "d6331d02-f67b-4e2a-8f3f-53be5a903944"
      },
      "outputs": [
        {
          "output_type": "display_data",
          "data": {
            "text/plain": [
              "<Figure size 640x480 with 1 Axes>"
            ],
            "image/png": "[encoded data removed]"
          },
          "metadata": {}
        }
      ],
      "source": [
        "y_train.value_counts().plot(kind='bar')\n",
        "plt.title('Distribution of Survival')\n",
        "plt.show()"
      ]
    },
    {
      "cell_type": "markdown",
      "id": "e70c8def",
      "metadata": {
        "id": "e70c8def"
      },
      "source": [
        "4. So far you should have successfully been able to load, preprocess and visualize your data. Use the `pd.get_dummies()` function to convert categorical data into dummy variables (‘Sex’ and ‘Embarked’). Make sure to pass `drop_first=True` to the `get_dummies()` function. (Perform this only on X_train and store the result back into X_train)."
      ]
    },
    {
      "cell_type": "code",
      "execution_count": null,
      "id": "9b8dcb25",
      "metadata": {
        "id": "9b8dcb25"
      },
      "outputs": [],
      "source": [
        "X_train = pd.get_dummies(X_train, columns=['Sex', 'Embarked'], drop_first=True)"
      ]
    },
    {
      "cell_type": "code",
      "source": [
        "X_train.shape"
      ],
      "metadata": {
        "colab": {
          "base_uri": "https://localhost:8080/"
        },
        "id": "ERsA9vCcFHXN",
        "outputId": "ac0e10b9-f4f0-4b04-8fd3-631da928e8fc"
      },
      "id": "ERsA9vCcFHXN",
      "execution_count": null,
      "outputs": [
        {
          "output_type": "execute_result",
          "data": {
            "text/plain": [
              "(710, 8)"
            ]
          },
          "metadata": {},
          "execution_count": 24
        }
      ]
    },
    {
      "cell_type": "markdown",
      "id": "c2b146b2",
      "metadata": {
        "id": "c2b146b2"
      },
      "source": [
        "#### iii. Data Scaling\n",
        "\n",
        "1. Use MinMaxScaler to scale only the **continuous attributes** of X_train. Apply the `fit_transform()` function of the scaler to obtain the scaled data and store it back in X_train."
      ]
    },
    {
      "cell_type": "code",
      "execution_count": null,
      "id": "a7b9e8dd",
      "metadata": {
        "id": "a7b9e8dd"
      },
      "outputs": [],
      "source": []
    },
    {
      "cell_type": "markdown",
      "id": "f92a975b",
      "metadata": {
        "id": "f92a975b"
      },
      "source": [
        "2. Scale the X_test using the scaler you have just fit, this time using the `transform()` function. Note: Store the scaled values back into X_test. At the end of this step, you must have X_train, X_test, all scaled according to the MinMaxScaler."
      ]
    },
    {
      "cell_type": "code",
      "execution_count": null,
      "id": "8b85d774",
      "metadata": {
        "id": "8b85d774"
      },
      "outputs": [],
      "source": [
        "scaler = MinMaxScaler()\n",
        "X_train[['Age', 'SibSp', 'Parch', 'Fare']] = scaler.fit_transform(X_train[['Age', 'SibSp', 'Parch', 'Fare']])\n",
        "X_test[['Age', 'SibSp', 'Parch', 'Fare']] = scaler.transform(X_test[['Age', 'SibSp', 'Parch', 'Fare']])"
      ]
    },
    {
      "cell_type": "markdown",
      "id": "bba80f92",
      "metadata": {
        "tags": [],
        "id": "bba80f92"
      },
      "source": [
        "### c. Modelling\n",
        "\n",
        "#### i. Modelling (Model Instantiation / Training) using Logistic Regression classifier\n",
        "\n",
        "1. Employ the Logistic Regression classifier from sklearn and instantiate the model. Label this model as ‘model_lr’  "
      ]
    },
    {
      "cell_type": "code",
      "execution_count": null,
      "id": "0eb266f8",
      "metadata": {
        "id": "0eb266f8"
      },
      "outputs": [],
      "source": [
        "model_lr = LogisticRegression()"
      ]
    },
    {
      "cell_type": "markdown",
      "id": "3d2f4736",
      "metadata": {
        "id": "3d2f4736"
      },
      "source": [
        "2. Once instantiated, `fit()` the model using the scaled X_train, y_train data."
      ]
    },
    {
      "cell_type": "code",
      "execution_count": null,
      "id": "1de341dc",
      "metadata": {
        "colab": {
          "base_uri": "https://localhost:8080/",
          "height": 75
        },
        "id": "1de341dc",
        "outputId": "e5223f95-1b5c-4799-ee7e-c9ee60aa8ea2"
      },
      "outputs": [
        {
          "output_type": "execute_result",
          "data": {
            "text/plain": [
              "LogisticRegression()"
            ],
            "text/html": [
              "<style>#sk-container-id-1 {color: black;background-color: white;}#sk-container-id-1 pre{padding: 0;}#sk-container-id-1 div.sk-toggleable {background-color: white;}#sk-container-id-1 label.sk-toggleable__label {cursor: pointer;display: block;width: 100%;margin-bottom: 0;padding: 0.3em;box-sizing: border-box;text-align: center;}#sk-container-id-1 label.sk-toggleable__label-arrow:before {content: \"▸\";float: left;margin-right: 0.25em;color: #696969;}#sk-container-id-1 label.sk-toggleable__label-arrow:hover:before {color: black;}#sk-container-id-1 div.sk-estimator:hover label.sk-toggleable__label-arrow:before {color: black;}#sk-container-id-1 div.sk-toggleable__content {max-height: 0;max-width: 0;overflow: hidden;text-align: left;background-color: #f0f8ff;}#sk-container-id-1 div.sk-toggleable__content pre {margin: 0.2em;color: black;border-radius: 0.25em;background-color: #f0f8ff;}#sk-container-id-1 input.sk-toggleable__control:checked~div.sk-toggleable__content {max-height: 200px;max-width: 100%;overflow: auto;}#sk-container-id-1 input.sk-toggleable__control:checked~label.sk-toggleable__label-arrow:before {content: \"▾\";}#sk-container-id-1 div.sk-estimator input.sk-toggleable__control:checked~label.sk-toggleable__label {background-color: #d4ebff;}#sk-container-id-1 div.sk-label input.sk-toggleable__control:checked~label.sk-toggleable__label {background-color: #d4ebff;}#sk-container-id-1 input.sk-hidden--visually {border: 0;clip: rect(1px 1px 1px 1px);clip: rect(1px, 1px, 1px, 1px);height: 1px;margin: -1px;overflow: hidden;padding: 0;position: absolute;width: 1px;}#sk-container-id-1 div.sk-estimator {font-family: monospace;background-color: #f0f8ff;border: 1px dotted black;border-radius: 0.25em;box-sizing: border-box;margin-bottom: 0.5em;}#sk-container-id-1 div.sk-estimator:hover {background-color: #d4ebff;}#sk-container-id-1 div.sk-parallel-item::after {content: \"\";width: 100%;border-bottom: 1px solid gray;flex-grow: 1;}#sk-container-id-1 div.sk-label:hover label.sk-toggleable__label {background-color: #d4ebff;}#sk-container-id-1 div.sk-serial::before {content: \"\";position: absolute;border-left: 1px solid gray;box-sizing: border-box;top: 0;bottom: 0;left: 50%;z-index: 0;}#sk-container-id-1 div.sk-serial {display: flex;flex-direction: column;align-items: center;background-color: white;padding-right: 0.2em;padding-left: 0.2em;position: relative;}#sk-container-id-1 div.sk-item {position: relative;z-index: 1;}#sk-container-id-1 div.sk-parallel {display: flex;align-items: stretch;justify-content: center;background-color: white;position: relative;}#sk-container-id-1 div.sk-item::before, #sk-container-id-1 div.sk-parallel-item::before {content: \"\";position: absolute;border-left: 1px solid gray;box-sizing: border-box;top: 0;bottom: 0;left: 50%;z-index: -1;}#sk-container-id-1 div.sk-parallel-item {display: flex;flex-direction: column;z-index: 1;position: relative;background-color: white;}#sk-container-id-1 div.sk-parallel-item:first-child::after {align-self: flex-end;width: 50%;}#sk-container-id-1 div.sk-parallel-item:last-child::after {align-self: flex-start;width: 50%;}#sk-container-id-1 div.sk-parallel-item:only-child::after {width: 0;}#sk-container-id-1 div.sk-dashed-wrapped {border: 1px dashed gray;margin: 0 0.4em 0.5em 0.4em;box-sizing: border-box;padding-bottom: 0.4em;background-color: white;}#sk-container-id-1 div.sk-label label {font-family: monospace;font-weight: bold;display: inline-block;line-height: 1.2em;}#sk-container-id-1 div.sk-label-container {text-align: center;}#sk-container-id-1 div.sk-container {/* jupyter's `normalize.less` sets `[hidden] { display: none; }` but bootstrap.min.css set `[hidden] { display: none !important; }` so we also need the `!important` here to be able to override the default hidden behavior on the sphinx rendered scikit-learn.org. See: https://github.com/scikit-learn/scikit-learn/issues/21755 */display: inline-block !important;position: relative;}#sk-container-id-1 div.sk-text-repr-fallback {display: none;}</style><div id=\"sk-container-id-1\" class=\"sk-top-container\"><div class=\"sk-text-repr-fallback\"><pre>LogisticRegression()</pre><b>In a Jupyter environment, please rerun this cell to show the HTML representation or trust the notebook. <br />On GitHub, the HTML representation is unable to render, please try loading this page with nbviewer.org.</b></div><div class=\"sk-container\" hidden><div class=\"sk-item\"><div class=\"sk-estimator sk-toggleable\"><input class=\"sk-toggleable__control sk-hidden--visually\" id=\"sk-estimator-id-1\" type=\"checkbox\" checked><label for=\"sk-estimator-id-1\" class=\"sk-toggleable__label sk-toggleable__label-arrow\">LogisticRegression</label><div class=\"sk-toggleable__content\"><pre>LogisticRegression()</pre></div></div></div></div></div>"
            ]
          },
          "metadata": {},
          "execution_count": 15
        }
      ],
      "source": [
        "model_lr.fit(X_train, y_train)"
      ]
    },
    {
      "cell_type": "markdown",
      "id": "88b0cfd0",
      "metadata": {
        "id": "88b0cfd0"
      },
      "source": [
        "3. Employ the `predict()` function to obtain predictions on X_test and store this in a variable labeled as ‘y_pred_lr’."
      ]
    },
    {
      "cell_type": "code",
      "execution_count": null,
      "id": "075eec4b",
      "metadata": {
        "id": "075eec4b"
      },
      "outputs": [],
      "source": [
        "y_pred_lr = model_lr.predict(X_test)"
      ]
    },
    {
      "cell_type": "markdown",
      "id": "db7aaa8b",
      "metadata": {
        "id": "db7aaa8b"
      },
      "source": [
        "4. Employ the `accuracy_score` function by using the ‘y_pred_lr’ and ‘y_test’ variables as the functions parameters and print the accuracy of the Logistic Regression model."
      ]
    },
    {
      "cell_type": "code",
      "execution_count": null,
      "id": "f75e3f65",
      "metadata": {
        "colab": {
          "base_uri": "https://localhost:8080/"
        },
        "id": "f75e3f65",
        "outputId": "d77ae1b8-2901-4a46-bafe-f608f97fd4f4"
      },
      "outputs": [
        {
          "output_type": "stream",
          "name": "stdout",
          "text": [
            "Accuracy of Logistic Regression model: 0.88268156424581\n"
          ]
        }
      ],
      "source": [
        "print(\"Accuracy of Logistic Regression model:\", accuracy_score(y_test, y_pred_lr))"
      ]
    },
    {
      "cell_type": "markdown",
      "id": "fa82a987",
      "metadata": {
        "id": "fa82a987"
      },
      "source": [
        "#### ii. Modelling Logistic Regression Classifier with the addition of noise on the target variable.\n",
        "\n",
        "In the data repository you should see three noisy datasets – `df_train_noise20`, `df_train_noise40`, and `df_train_noise60`. These datasets have already been preprocessed. In each dataset `df_train_noise<integer>`, the integer indicates the percentage of noise injected into the target variable in that training set. The noise can be considered a result of incorrect class labelling of a particular instance. For example, in `df_train_noise20`, 20% of the instances have an incorrect target label in the training set. Our goal will be to train a set of classification models on such noisy training data and test on a clean test set (i.e., same as what we have been using so far `df_test`).\n",
        "\n",
        "Load the `df_train_noise<nl>` (nl means noise level and is a place holder for the integer percentage) datasets and split the data into `X_train_<nl>` and `y_train_<nl>` (e.g., if working with `df_train_noise20` we would split the data and store it in variables named `X_train_20`, `y_train_20`). `X_train_<nl>` should store the features and `y_train_<nl>` should store the target variable.\n",
        "\n",
        "**Repeat the following steps (c. i. 1 – 4) for the 20%, 40%, 60% noise level datasets.**  \n",
        "Train a new Logistic Regression model on the new training and use the pre-existing `X_test` and `y_test` to evaluate your model. Label this model as `model_lr_noise_<nl>`. Specifically, do the following:\n",
        "1. Employ a new Logistic Regression classifier from sklearn and instantiate the model. Label this model as `model_lr_noise<nl>`\n",
        "2. Once instantiated, `fit()` the model using the `X_train_<nl>` and `y_train_<nl>` data.\n",
        "3. Employ the `predict()` function to obtain predictions on `X_test` and store this in a variable labeled as `y_pred_lr_noise<nl>`.\n",
        "4. Employ the `accuracy_score` function and print the accuracy of the new Logistic Regression model."
      ]
    },
    {
      "cell_type": "code",
      "execution_count": null,
      "id": "f3aab883",
      "metadata": {
        "colab": {
          "base_uri": "https://localhost:8080/"
        },
        "id": "f3aab883",
        "outputId": "ad521b40-b455-4959-acf8-fd26e61c79b4"
      },
      "outputs": [
        {
          "output_type": "stream",
          "name": "stdout",
          "text": [
            "Accuracy of model with 20% noise: 0.7039106145251397\n",
            "Accuracy of model with 40% noise: 0.6312849162011173\n",
            "Accuracy of model with 60% noise: 0.39664804469273746\n"
          ]
        }
      ],
      "source": [
        "\n",
        "def train_noisy_model(noise_level):\n",
        "    df_train_noisy = pd.read_csv(f'df_train_noise{noise_level}.csv')\n",
        "    X_train_noisy = df_train_noisy.drop('Survived', axis=1)\n",
        "    y_train_noisy = df_train_noisy['Survived']\n",
        "    model_lr_noise = LogisticRegression()\n",
        "    model_lr_noise.fit(X_train_noisy, y_train_noisy)\n",
        "    y_pred_lr_noise = model_lr_noise.predict(X_test)\n",
        "    print(f\"Accuracy of model with {noise_level}% noise:\", accuracy_score(y_test, y_pred_lr_noise))\n",
        "\n",
        "train_noisy_model(20)\n",
        "train_noisy_model(40)\n",
        "train_noisy_model(60)"
      ]
    },
    {
      "cell_type": "markdown",
      "id": "a5efe963",
      "metadata": {
        "id": "a5efe963"
      },
      "source": [
        "### d. Evaluation\n",
        "\n",
        "#### i. Report F1 Score, Precision, Recall, Accuracy (All on the test set X_test, y_test)\n",
        "\n",
        "1. Use `classification_report()` function from sklearn.metrics to report the precision, recall, and f1 score for each class for the `model_lr` model, along with a confusion matrix."
      ]
    },
    {
      "cell_type": "code",
      "execution_count": null,
      "id": "f9c5f0e2",
      "metadata": {
        "colab": {
          "base_uri": "https://localhost:8080/"
        },
        "id": "f9c5f0e2",
        "outputId": "307e6031-9d78-43ce-948d-e5c5b3e32b2f"
      },
      "outputs": [
        {
          "output_type": "stream",
          "name": "stdout",
          "text": [
            "              precision    recall  f1-score   support\n",
            "\n",
            "           0       0.90      0.92      0.91       113\n",
            "           1       0.86      0.82      0.84        66\n",
            "\n",
            "    accuracy                           0.88       179\n",
            "   macro avg       0.88      0.87      0.87       179\n",
            "weighted avg       0.88      0.88      0.88       179\n",
            "\n",
            "[[104   9]\n",
            " [ 12  54]]\n"
          ]
        }
      ],
      "source": [
        "# Classification report and confusion matrix\n",
        "print(classification_report(y_test, y_pred_lr))\n",
        "print(confusion_matrix(y_test, y_pred_lr))"
      ]
    },
    {
      "cell_type": "markdown",
      "id": "e0346553",
      "metadata": {
        "id": "e0346553"
      },
      "source": [
        "#### ii. Report the accuracy and classification report for each of the three noisy models (`model_lr_noise<nl>`)"
      ]
    },
    {
      "cell_type": "code",
      "execution_count": null,
      "id": "2ccf5e81",
      "metadata": {
        "colab": {
          "base_uri": "https://localhost:8080/"
        },
        "id": "2ccf5e81",
        "outputId": "83adf0af-74c5-48f4-eab2-4614f95be236"
      },
      "outputs": [
        {
          "output_type": "stream",
          "name": "stdout",
          "text": [
            "Evaluation of model with 20% noise:\n",
            "              precision    recall  f1-score   support\n",
            "\n",
            "           0       0.68      1.00      0.81       113\n",
            "           1       1.00      0.20      0.33        66\n",
            "\n",
            "    accuracy                           0.70       179\n",
            "   macro avg       0.84      0.60      0.57       179\n",
            "weighted avg       0.80      0.70      0.63       179\n",
            "\n",
            "[[113   0]\n",
            " [ 53  13]]\n",
            "Evaluation of model with 40% noise:\n",
            "              precision    recall  f1-score   support\n",
            "\n",
            "           0       0.63      1.00      0.77       113\n",
            "           1       0.00      0.00      0.00        66\n",
            "\n",
            "    accuracy                           0.63       179\n",
            "   macro avg       0.32      0.50      0.39       179\n",
            "weighted avg       0.40      0.63      0.49       179\n",
            "\n",
            "[[113   0]\n",
            " [ 66   0]]\n",
            "Evaluation of model with 60% noise:\n",
            "              precision    recall  f1-score   support\n",
            "\n",
            "           0       0.73      0.07      0.13       113\n",
            "           1       0.38      0.95      0.54        66\n",
            "\n",
            "    accuracy                           0.40       179\n",
            "   macro avg       0.55      0.51      0.33       179\n",
            "weighted avg       0.60      0.40      0.28       179\n",
            "\n",
            "[[  8 105]\n",
            " [  3  63]]\n"
          ]
        },
        {
          "output_type": "stream",
          "name": "stderr",
          "text": [
            "/usr/local/lib/python3.10/dist-packages/sklearn/metrics/_classification.py:1344: UndefinedMetricWarning: Precision and F-score are ill-defined and being set to 0.0 in labels with no predicted samples. Use `zero_division` parameter to control this behavior.\n",
            "  _warn_prf(average, modifier, msg_start, len(result))\n",
            "/usr/local/lib/python3.10/dist-packages/sklearn/metrics/_classification.py:1344: UndefinedMetricWarning: Precision and F-score are ill-defined and being set to 0.0 in labels with no predicted samples. Use `zero_division` parameter to control this behavior.\n",
            "  _warn_prf(average, modifier, msg_start, len(result))\n",
            "/usr/local/lib/python3.10/dist-packages/sklearn/metrics/_classification.py:1344: UndefinedMetricWarning: Precision and F-score are ill-defined and being set to 0.0 in labels with no predicted samples. Use `zero_division` parameter to control this behavior.\n",
            "  _warn_prf(average, modifier, msg_start, len(result))\n"
          ]
        }
      ],
      "source": [
        "\n",
        "def evaluate_noisy_model(noise_level):\n",
        "    df_train_noisy = pd.read_csv(f'df_train_noise{noise_level}.csv')\n",
        "    X_train_noisy = df_train_noisy.drop('Survived', axis=1)\n",
        "    y_train_noisy = df_train_noisy['Survived']\n",
        "    model_lr_noise = LogisticRegression()\n",
        "    model_lr_noise.fit(X_train_noisy, y_train_noisy)\n",
        "    y_pred_lr_noise = model_lr_noise.predict(X_test)\n",
        "    print(f\"Evaluation of model with {noise_level}% noise:\")\n",
        "    print(classification_report(y_test, y_pred_lr_noise))\n",
        "    print(confusion_matrix(y_test, y_pred_lr_noise))\n",
        "\n",
        "\n",
        "evaluate_noisy_model(20)\n",
        "evaluate_noisy_model(40)\n",
        "evaluate_noisy_model(60)"
      ]
    },
    {
      "cell_type": "markdown",
      "id": "3b42540c",
      "metadata": {
        "id": "3b42540c"
      },
      "source": [
        "#### iii. Make a calibration plot for `model_lr`\n",
        "\n",
        "Use the `CalibrationDisplay` class from sklearn.calibration to make your plot."
      ]
    },
    {
      "cell_type": "code",
      "execution_count": null,
      "id": "d0aea3de",
      "metadata": {
        "colab": {
          "base_uri": "https://localhost:8080/",
          "height": 472
        },
        "id": "d0aea3de",
        "outputId": "9d08582e-0028-409f-9e41-f1f1c7849059"
      },
      "outputs": [
        {
          "output_type": "display_data",
          "data": {
            "text/plain": [
              "<Figure size 640x480 with 1 Axes>"
            ],
            "image/png": "[encoded data removed]"
          },
          "metadata": {}
        }
      ],
      "source": [
        "from sklearn.calibration import calibration_curve\n",
        "\n",
        "y_probs_lr = model_lr.predict_proba(X_test)[:, 1]\n",
        "\n",
        "prob_true, prob_pred = calibration_curve(y_test, y_probs_lr, n_bins=10)\n",
        "\n",
        "fig, ax = plt.subplots()\n",
        "CalibrationDisplay.from_predictions(y_test, y_probs_lr, ax=ax, name='Logistic Regression')\n",
        "ax.plot([0, 1], [0, 1], linestyle='--', label='Perfectly calibrated')\n",
        "ax.set(title='Calibration plot (reliability curve)', xlabel='Mean predicted probability', ylabel='Fraction of positives')\n",
        "plt.legend()\n",
        "plt.show()"
      ]
    },
    {
      "cell_type": "code",
      "source": [],
      "metadata": {
        "id": "HoT7Vm278y77"
      },
      "id": "HoT7Vm278y77",
      "execution_count": null,
      "outputs": []
    }
  ],
  "metadata": {
    "kernelspec": {
      "display_name": "Python 3 (ipykernel)",
      "language": "python",
      "name": "python3"
    },
    "language_info": {
      "codemirror_mode": {
        "name": "ipython",
        "version": 3
      },
      "file_extension": ".py",
      "mimetype": "text/x-python",
      "name": "python",
      "nbconvert_exporter": "python",
      "pygments_lexer": "ipython3",
      "version": "3.9.16"
    },
    "colab": {
      "provenance": [],
      "include_colab_link": true
    }
  },
  "nbformat": 4,
  "nbformat_minor": 5
}